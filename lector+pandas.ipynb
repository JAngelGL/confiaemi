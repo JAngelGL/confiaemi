{
  "nbformat": 4,
  "nbformat_minor": 0,
  "metadata": {
    "colab": {
      "provenance": []
    },
    "kernelspec": {
      "name": "python3",
      "display_name": "Python 3"
    },
    "language_info": {
      "name": "python"
    }
  },
  "cells": [
    {
      "cell_type": "code",
      "execution_count": 3,
      "metadata": {
        "colab": {
          "base_uri": "https://localhost:8080/"
        },
        "id": "h3vQYOBE0jlc",
        "outputId": "48d3c0c7-f54a-41de-8c07-97ddaed47e20"
      },
      "outputs": [
        {
          "output_type": "stream",
          "name": "stdout",
          "text": [
            "Archivos con al menos un 1: ['cruise4.csv', 'cruise1.csv']\n",
            "Archivos descartados: ['cruise2.csv', 'cruise3.csv']\n"
          ]
        }
      ],
      "source": [
        "import os\n",
        "import pandas as pd\n",
        "\n",
        "# Directorio que contiene los archivos CSV\n",
        "directorio = \"/content/data_file\"\n",
        "\n",
        "# Listas para almacenar los nombres de los archivos\n",
        "archivos_con_1 = []\n",
        "archivos_descartados = []\n",
        "\n",
        "# Función para verificar si un archivo debe ser renombrado\n",
        "def debe_renombrar(archivo):\n",
        "    try:\n",
        "        # Lee el archivo CSV en un DataFrame de Pandas\n",
        "        df = pd.read_csv(os.path.join(directorio, archivo))\n",
        "        # Verifica si hay al menos un 1 en la columna \"Stable cruise\"\n",
        "        if 1 in df[\"Stable cruise\"].values:\n",
        "            archivos_con_1.append(archivo)\n",
        "        else:\n",
        "            archivos_descartados.append(archivo)\n",
        "    except Exception as e:\n",
        "        print(f\"Error al procesar el archivo {archivo}: {str(e)}\")\n",
        "\n",
        "# Itera sobre los archivos en el directorio\n",
        "archivos = os.listdir(directorio)\n",
        "for archivo in archivos:\n",
        "    debe_renombrar(archivo)\n",
        "\n",
        "# Imprime los nombres de los archivos en las listas\n",
        "print(\"Archivos con al menos un 1:\", archivos_con_1)\n",
        "print(\"Archivos descartados:\", archivos_descartados)"
      ]
    },
    {
      "cell_type": "code",
      "source": [],
      "metadata": {
        "id": "ko07jJEW0kTO"
      },
      "execution_count": null,
      "outputs": []
    }
  ]
}